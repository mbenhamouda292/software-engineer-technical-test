{
 "cells": [
  {
   "cell_type": "markdown",
   "metadata": {},
   "source": [
    "# Earthquake risk in Greece\n",
    "\n",
    "This project is quite different from a software development task.\n",
    "\n",
    "Don't hesitate to contact us, if you have any doubts on what is asked or if you encounter error will using the notebook."
   ]
  },
  {
   "cell_type": "code",
   "execution_count": 239,
   "metadata": {},
   "outputs": [],
   "source": [
    "%reload_ext autoreload\n",
    "%autoreload 2"
   ]
  },
  {
   "cell_type": "markdown",
   "metadata": {},
   "source": [
    "## Constraints\n",
    "\n",
    "+ 🚨 Only cells with the comment `# NOTE: Fill me!` should be filled\n",
    "+ 🚨 Notebook should be saved and commited **with** outputs for the submission\n",
    "\n",
    "\n",
    "+ ⚠️ The solution only requires packages listed in the `requirements/requirements.txt`\n",
    "+ ⚠️ Unit tests should be favored when asked to write tests \n",
    "+ ⚠️ Tests must automatically be detected running `pytest`\n",
    "+ ⚠️ Requested method signature should be inferred from this notebook\n",
    "\n",
    "\n",
    "## Note\n",
    "\n",
    "+ The `assert` statements in the notebook are here to guide the project.\n",
    "However, successful `assert` statements does not guaranty that your code is correct.\n",
    "\n",
    "## Setup\n",
    "\n",
    "In a Python >= 3.8 virtual env, run:"
   ]
  },
  {
   "cell_type": "code",
   "execution_count": 240,
   "metadata": {},
   "outputs": [
    {
     "name": "stdout",
     "output_type": "stream",
     "text": [
      "Requirement already satisfied: pandas in c:\\programdata\\anaconda3\\lib\\site-packages (from -r ../requirements/requirements.txt (line 1)) (1.3.4)\n",
      "Requirement already satisfied: numpy in c:\\programdata\\anaconda3\\lib\\site-packages (from -r ../requirements/requirements.txt (line 2)) (1.20.3)\n",
      "Requirement already satisfied: ipykernel in c:\\programdata\\anaconda3\\lib\\site-packages (from -r ../requirements/requirements.txt (line 3)) (6.4.1)\n",
      "Requirement already satisfied: pytest in c:\\programdata\\anaconda3\\lib\\site-packages (from -r ../requirements/requirements.txt (line 4)) (6.2.4)\n",
      "Requirement already satisfied: matplotlib in c:\\programdata\\anaconda3\\lib\\site-packages (from -r ../requirements/requirements.txt (line 5)) (3.4.3)\n",
      "Requirement already satisfied: asyncio in c:\\programdata\\anaconda3\\lib\\site-packages (from -r ../requirements/requirements.txt (line 6)) (3.4.3)\n",
      "Requirement already satisfied: aiohttp in c:\\programdata\\anaconda3\\lib\\site-packages (from -r ../requirements/requirements.txt (line 7)) (3.8.1)\n",
      "Requirement already satisfied: python-dateutil>=2.7.3 in c:\\programdata\\anaconda3\\lib\\site-packages (from pandas->-r ../requirements/requirements.txt (line 1)) (2.8.2)\n",
      "Requirement already satisfied: pytz>=2017.3 in c:\\programdata\\anaconda3\\lib\\site-packages (from pandas->-r ../requirements/requirements.txt (line 1)) (2021.3)\n",
      "Requirement already satisfied: jupyter-client<8.0 in c:\\programdata\\anaconda3\\lib\\site-packages (from ipykernel->-r ../requirements/requirements.txt (line 3)) (6.1.12)\n",
      "Requirement already satisfied: tornado<7.0,>=4.2 in c:\\programdata\\anaconda3\\lib\\site-packages (from ipykernel->-r ../requirements/requirements.txt (line 3)) (6.1)\n",
      "Requirement already satisfied: traitlets<6.0,>=4.1.0 in c:\\programdata\\anaconda3\\lib\\site-packages (from ipykernel->-r ../requirements/requirements.txt (line 3)) (5.1.0)\n",
      "Requirement already satisfied: debugpy<2.0,>=1.0.0 in c:\\programdata\\anaconda3\\lib\\site-packages (from ipykernel->-r ../requirements/requirements.txt (line 3)) (1.4.1)\n",
      "Requirement already satisfied: ipython<8.0,>=7.23.1 in c:\\programdata\\anaconda3\\lib\\site-packages (from ipykernel->-r ../requirements/requirements.txt (line 3)) (7.29.0)\n",
      "Requirement already satisfied: ipython-genutils in c:\\programdata\\anaconda3\\lib\\site-packages (from ipykernel->-r ../requirements/requirements.txt (line 3)) (0.2.0)\n",
      "Requirement already satisfied: matplotlib-inline<0.2.0,>=0.1.0 in c:\\programdata\\anaconda3\\lib\\site-packages (from ipykernel->-r ../requirements/requirements.txt (line 3)) (0.1.2)\n",
      "Requirement already satisfied: attrs>=19.2.0 in c:\\programdata\\anaconda3\\lib\\site-packages (from pytest->-r ../requirements/requirements.txt (line 4)) (21.2.0)\n",
      "Requirement already satisfied: iniconfig in c:\\programdata\\anaconda3\\lib\\site-packages (from pytest->-r ../requirements/requirements.txt (line 4)) (1.1.1)\n",
      "Requirement already satisfied: packaging in c:\\programdata\\anaconda3\\lib\\site-packages (from pytest->-r ../requirements/requirements.txt (line 4)) (21.0)\n",
      "Requirement already satisfied: pluggy<1.0.0a1,>=0.12 in c:\\programdata\\anaconda3\\lib\\site-packages (from pytest->-r ../requirements/requirements.txt (line 4)) (0.13.1)\n",
      "Requirement already satisfied: py>=1.8.2 in c:\\programdata\\anaconda3\\lib\\site-packages (from pytest->-r ../requirements/requirements.txt (line 4)) (1.10.0)\n",
      "Requirement already satisfied: toml in c:\\programdata\\anaconda3\\lib\\site-packages (from pytest->-r ../requirements/requirements.txt (line 4)) (0.10.2)\n",
      "Requirement already satisfied: atomicwrites>=1.0 in c:\\programdata\\anaconda3\\lib\\site-packages (from pytest->-r ../requirements/requirements.txt (line 4)) (1.4.0)\n",
      "Requirement already satisfied: colorama in c:\\programdata\\anaconda3\\lib\\site-packages (from pytest->-r ../requirements/requirements.txt (line 4)) (0.4.4)\n",
      "Requirement already satisfied: cycler>=0.10 in c:\\programdata\\anaconda3\\lib\\site-packages (from matplotlib->-r ../requirements/requirements.txt (line 5)) (0.10.0)\n",
      "Requirement already satisfied: pillow>=6.2.0 in c:\\programdata\\anaconda3\\lib\\site-packages (from matplotlib->-r ../requirements/requirements.txt (line 5)) (8.4.0)\n",
      "Requirement already satisfied: kiwisolver>=1.0.1 in c:\\programdata\\anaconda3\\lib\\site-packages (from matplotlib->-r ../requirements/requirements.txt (line 5)) (1.3.1)\n",
      "Requirement already satisfied: pyparsing>=2.2.1 in c:\\programdata\\anaconda3\\lib\\site-packages (from matplotlib->-r ../requirements/requirements.txt (line 5)) (3.0.4)\n",
      "Requirement already satisfied: yarl<2.0,>=1.0 in c:\\programdata\\anaconda3\\lib\\site-packages (from aiohttp->-r ../requirements/requirements.txt (line 7)) (1.7.2)\n",
      "Requirement already satisfied: multidict<7.0,>=4.5 in c:\\programdata\\anaconda3\\lib\\site-packages (from aiohttp->-r ../requirements/requirements.txt (line 7)) (6.0.1)\n",
      "Requirement already satisfied: charset-normalizer<3.0,>=2.0 in c:\\programdata\\anaconda3\\lib\\site-packages (from aiohttp->-r ../requirements/requirements.txt (line 7)) (2.0.4)\n",
      "Requirement already satisfied: frozenlist>=1.1.1 in c:\\programdata\\anaconda3\\lib\\site-packages (from aiohttp->-r ../requirements/requirements.txt (line 7)) (1.3.0)\n",
      "Requirement already satisfied: aiosignal>=1.1.2 in c:\\programdata\\anaconda3\\lib\\site-packages (from aiohttp->-r ../requirements/requirements.txt (line 7)) (1.2.0)\n",
      "Requirement already satisfied: async-timeout<5.0,>=4.0.0a3 in c:\\programdata\\anaconda3\\lib\\site-packages (from aiohttp->-r ../requirements/requirements.txt (line 7)) (4.0.2)\n",
      "Requirement already satisfied: six in c:\\programdata\\anaconda3\\lib\\site-packages (from cycler>=0.10->matplotlib->-r ../requirements/requirements.txt (line 5)) (1.16.0)\n",
      "Requirement already satisfied: jedi>=0.16 in c:\\programdata\\anaconda3\\lib\\site-packages (from ipython<8.0,>=7.23.1->ipykernel->-r ../requirements/requirements.txt (line 3)) (0.18.0)\n",
      "Requirement already satisfied: decorator in c:\\programdata\\anaconda3\\lib\\site-packages (from ipython<8.0,>=7.23.1->ipykernel->-r ../requirements/requirements.txt (line 3)) (5.1.0)\n",
      "Requirement already satisfied: pickleshare in c:\\programdata\\anaconda3\\lib\\site-packages (from ipython<8.0,>=7.23.1->ipykernel->-r ../requirements/requirements.txt (line 3)) (0.7.5)\n",
      "Requirement already satisfied: prompt-toolkit!=3.0.0,!=3.0.1,<3.1.0,>=2.0.0 in c:\\programdata\\anaconda3\\lib\\site-packages (from ipython<8.0,>=7.23.1->ipykernel->-r ../requirements/requirements.txt (line 3)) (3.0.20)\n",
      "Requirement already satisfied: setuptools>=18.5 in c:\\programdata\\anaconda3\\lib\\site-packages (from ipython<8.0,>=7.23.1->ipykernel->-r ../requirements/requirements.txt (line 3)) (58.0.4)\n",
      "Requirement already satisfied: backcall in c:\\programdata\\anaconda3\\lib\\site-packages (from ipython<8.0,>=7.23.1->ipykernel->-r ../requirements/requirements.txt (line 3)) (0.2.0)\n",
      "Requirement already satisfied: pygments in c:\\programdata\\anaconda3\\lib\\site-packages (from ipython<8.0,>=7.23.1->ipykernel->-r ../requirements/requirements.txt (line 3)) (2.10.0)\n",
      "Requirement already satisfied: parso<0.9.0,>=0.8.0 in c:\\programdata\\anaconda3\\lib\\site-packages (from jedi>=0.16->ipython<8.0,>=7.23.1->ipykernel->-r ../requirements/requirements.txt (line 3)) (0.8.2)\n",
      "Requirement already satisfied: jupyter-core>=4.6.0 in c:\\programdata\\anaconda3\\lib\\site-packages (from jupyter-client<8.0->ipykernel->-r ../requirements/requirements.txt (line 3)) (4.8.1)\n",
      "Requirement already satisfied: pyzmq>=13 in c:\\programdata\\anaconda3\\lib\\site-packages (from jupyter-client<8.0->ipykernel->-r ../requirements/requirements.txt (line 3)) (22.2.1)\n",
      "Requirement already satisfied: pywin32>=1.0 in c:\\programdata\\anaconda3\\lib\\site-packages (from jupyter-core>=4.6.0->jupyter-client<8.0->ipykernel->-r ../requirements/requirements.txt (line 3)) (228)\n",
      "Requirement already satisfied: wcwidth in c:\\programdata\\anaconda3\\lib\\site-packages (from prompt-toolkit!=3.0.0,!=3.0.1,<3.1.0,>=2.0.0->ipython<8.0,>=7.23.1->ipykernel->-r ../requirements/requirements.txt (line 3)) (0.2.5)\n",
      "Requirement already satisfied: idna>=2.0 in c:\\programdata\\anaconda3\\lib\\site-packages (from yarl<2.0,>=1.0->aiohttp->-r ../requirements/requirements.txt (line 7)) (3.2)\n",
      "Obtaining file:///C:/Users/Camil/Test_DU/software-engineer-technical-test-main\n",
      "Installing collected packages: earthquakes\n",
      "  Attempting uninstall: earthquakes\n",
      "    Found existing installation: earthquakes dev\n",
      "    Uninstalling earthquakes-dev:\n",
      "      Successfully uninstalled earthquakes-dev\n",
      "  Running setup.py develop for earthquakes\n",
      "Successfully installed earthquakes-dev\n"
     ]
    }
   ],
   "source": [
    "! pip install -r ../requirements/requirements.txt\n",
    "! pip install --no-deps -e .."
   ]
  },
  {
   "cell_type": "markdown",
   "metadata": {},
   "source": [
    "## Tests"
   ]
  },
  {
   "cell_type": "code",
   "execution_count": 241,
   "metadata": {},
   "outputs": [
    {
     "name": "stdout",
     "output_type": "stream",
     "text": [
      "============================= test session starts =============================\n",
      "platform win32 -- Python 3.9.7, pytest-6.2.4, py-1.10.0, pluggy-0.13.1\n",
      "rootdir: C:\\Users\\Camil\\Test_DU\\software-engineer-technical-test-main\n",
      "plugins: anyio-2.2.0\n",
      "collected 0 items\n",
      "\n",
      "============================== warnings summary ===============================\n",
      "..\\..\\..\\..\\ProgramData\\Anaconda3\\lib\\site-packages\\pyreadline\\py3k_compat.py:8\n",
      "  C:\\ProgramData\\Anaconda3\\lib\\site-packages\\pyreadline\\py3k_compat.py:8: DeprecationWarning: Using or importing the ABCs from 'collections' instead of from 'collections.abc' is deprecated since Python 3.3, and in 3.10 it will stop working\n",
      "    return isinstance(x, collections.Callable)\n",
      "\n",
      "-- Docs: https://docs.pytest.org/en/stable/warnings.html\n",
      "============================= 1 warning in 0.03s ==============================\n"
     ]
    }
   ],
   "source": [
    "! cd .. && pytest"
   ]
  },
  {
   "cell_type": "markdown",
   "metadata": {},
   "source": [
    "---"
   ]
  },
  {
   "cell_type": "markdown",
   "metadata": {},
   "source": [
    "# Context\n",
    "\n",
    "A client asks for an insurance of their asset, located at `(35.025, 25.763)` in Greece.\n",
    "\n",
    "The client wishes to receive a payout under the following conditions:\n",
    "\n",
    "+ earthquake of magnitude `4.5` or higher within `10km`: full payout\n",
    "+ earthquake of magnitude `5.5` or higher within `50km`: `75%` payout\n",
    "+ earthquake of magnitude `6.5` or higher within `200km`: `50%` payout\n",
    "\n",
    "In the event of aftershocks, a payout can only occur once a year using the maximal value.\n",
    "\n",
    "## Example\n",
    "\n",
    "If in the same year:\n",
    "\n",
    "* an earthquake of magnitude `6.8` occurs within `200km`\n",
    "* **and** an aftershock of magnitude `5.8` occurs within `50km`\n",
    "\n",
    "the client receives a `75%` payout, and not a `125%` payout."
   ]
  },
  {
   "cell_type": "code",
   "execution_count": 242,
   "metadata": {},
   "outputs": [],
   "source": [
    "import numpy as np\n",
    "import pandas as pd\n",
    "from datetime import datetime\n",
    "\n",
    "from earthquakes.tools import (\n",
    "    DISTANCE_COLUMN,\n",
    "    LATITUDE_COLUMN,\n",
    "    LONGITUDE_COLUMN,\n",
    ") "
   ]
  },
  {
   "cell_type": "markdown",
   "metadata": {},
   "source": [
    "# Earthquake data\n",
    "\n",
    "The US Geological Service (USGS) provides CSV data through their [API](https://earthquake.usgs.gov/fdsnws/event/1/).\n",
    "\n",
    "Use it to retrieve earthquake information.\n",
    "\n",
    "In the module `earthquakes.usgs_api`:\n",
    "+ Implement the function `get_earthquake_data`,\n",
    "+ The function will retrieve the earthquake data of the area of interest for the past 200 years,\n",
    "+ The implementation must use the `urllib` python package,\n",
    "+ The API request url must be build in a dedicated function `build_api_url`,\n",
    "+ Tests should be provided for `build_api_url`.\n",
    "\n",
    "Note: Earthquakes after the 21-10-2021 should not be considered."
   ]
  },
  {
   "cell_type": "code",
   "execution_count": 243,
   "metadata": {},
   "outputs": [],
   "source": [
    "from earthquakes.usgs_api import get_earthquake_data"
   ]
  },
  {
   "cell_type": "code",
   "execution_count": 244,
   "metadata": {},
   "outputs": [
    {
     "name": "stdout",
     "output_type": "stream",
     "text": [
      "                        time  latitude  longitude  depth  mag magType    nst  \\\n",
      "0   2021-01-21T14:27:06.745Z   35.0489    33.7163  62.88  5.0      mb    NaN   \n",
      "1   2020-04-15T08:18:38.002Z   35.8341    35.5450  10.00  4.5      mb    NaN   \n",
      "2   2020-04-15T07:40:05.467Z   35.8628    35.5250  10.00  4.6      mb    NaN   \n",
      "3   2020-04-03T18:15:42.603Z   35.9384    35.4900  12.73  4.7     mww    NaN   \n",
      "4   2018-10-29T12:09:14.160Z   34.4800    33.5098  10.00  4.9      mb    NaN   \n",
      "5   2015-07-30T15:04:11.480Z   34.3172    33.6631  35.59  4.8      mb    NaN   \n",
      "6   2015-07-29T22:00:55.810Z   36.5646    34.9787  29.62  4.9     mwr    NaN   \n",
      "7   2013-10-23T12:24:22.450Z   36.2912    34.3423   5.00  4.5      mb    NaN   \n",
      "8   2012-07-28T23:29:49.940Z   34.8170    34.2700  46.60  4.5      mb  137.0   \n",
      "9   2012-05-11T18:48:29.580Z   34.3040    34.1420  16.60  5.4      mb  351.0   \n",
      "10  2010-11-14T23:08:25.400Z   36.5850    36.0070   2.60  4.9     mwc  235.0   \n",
      "11  2010-07-27T16:07:43.940Z   34.9870    32.8850  35.00  4.5      ml   18.0   \n",
      "12  2009-09-16T14:09:45.170Z   34.7810    33.1290  27.90  4.8      mb   66.0   \n",
      "13  2009-08-25T06:28:35.280Z   34.7190    32.9850  10.00  4.6      mb  100.0   \n",
      "14  2009-06-17T04:29:12.000Z   36.0470    36.0200  10.40  5.0      mb  199.0   \n",
      "15  2008-02-15T10:36:19.090Z   33.3270    35.3050  10.00  5.1     mwc  253.0   \n",
      "16  2006-10-15T01:35:10.120Z   34.9420    33.9590  32.00  4.7      mb  291.0   \n",
      "17  2006-10-09T05:01:34.000Z   35.8240    35.6000  39.00  4.5      mb  119.0   \n",
      "18  2006-03-29T22:05:15.190Z   35.2520    35.4270  27.30  5.0     mwc  254.0   \n",
      "19  2004-10-16T15:28:27.630Z   34.3350    33.2530  50.00  4.7     mwc  264.0   \n",
      "20  2003-11-03T13:55:27.340Z   34.6860    32.9640  27.50  4.6      mb   46.0   \n",
      "21  1999-08-17T15:06:27.070Z   34.8140    32.8590  33.00  5.1      mb    NaN   \n",
      "22  1999-08-13T15:31:38.560Z   34.7140    32.8900  33.00  4.8      mb    NaN   \n",
      "23  1999-08-11T04:40:19.660Z   34.7370    32.9540  33.00  4.6      mb    NaN   \n",
      "24  1999-08-11T04:27:55.350Z   34.7910    32.9390  33.00  5.6     mwc    NaN   \n",
      "25  1997-03-26T13:20:21.940Z   33.7380    35.4640  10.00  4.7      mb    NaN   \n",
      "26  1997-03-26T04:22:51.630Z   33.3860    35.4520  10.00  5.0      mb    NaN   \n",
      "27  1997-01-22T18:27:29.660Z   36.2750    35.9970  10.00  5.3      mb    NaN   \n",
      "28  1997-01-22T18:24:50.200Z   36.2390    35.9220  10.00  5.1      mb    NaN   \n",
      "29  1997-01-22T17:57:18.700Z   36.2500    35.9510  10.00  5.7     mwc    NaN   \n",
      "30  1996-06-05T13:13:16.230Z   35.8230    35.6580  10.00  4.6      mb    NaN   \n",
      "31  1993-03-22T11:03:43.580Z   34.6970    34.4020  32.10  5.4      mw    NaN   \n",
      "32  1988-08-03T20:42:30.990Z   35.7680    35.8920  46.60  4.6      mb    NaN   \n",
      "33  1987-11-09T07:50:17.230Z   34.7350    32.8770  26.40  4.5      mb    NaN   \n",
      "34  1987-11-09T06:02:43.890Z   34.5440    32.9370  10.00  4.8      mb    NaN   \n",
      "35  1987-06-16T06:17:42.030Z   35.7850    35.0600  33.00  4.7      mb    NaN   \n",
      "36  1987-01-15T11:19:34.690Z   34.6780    33.9050  34.40  5.0      mb    NaN   \n",
      "37  1986-07-07T14:17:26.060Z   34.8300    33.5540  50.70  4.5      mb    NaN   \n",
      "38  1984-12-18T13:59:34.300Z   35.3460    35.3220  33.00  4.6      mb    NaN   \n",
      "39  1984-03-28T16:15:05.800Z   34.7860    33.6060  34.40  5.0      mb    NaN   \n",
      "40  1983-10-31T18:51:57.120Z   35.1570    33.8590  33.00  4.5      mb    NaN   \n",
      "41  1983-09-24T16:40:06.250Z   34.6400    33.3060  33.00  4.6      mb    NaN   \n",
      "42  1983-06-03T02:04:39.450Z   33.8770    35.8170  10.00  4.7      mb    NaN   \n",
      "43  1982-12-19T19:17:32.570Z   34.8980    34.0150  33.00  4.8      mb    NaN   \n",
      "44  1982-05-20T03:28:03.160Z   35.1240    33.7870  59.10  4.6      mb    NaN   \n",
      "45  1981-02-19T02:41:53.700Z   36.2800    36.3190  33.00  4.5      mb    NaN   \n",
      "46  1978-01-30T07:52:48.200Z   34.7120    33.8130  37.00  4.5      mb    NaN   \n",
      "47  1975-01-28T21:12:33.100Z   34.6240    33.6930  45.00  4.7      mb    NaN   \n",
      "48  1961-09-15T01:46:11.000Z   34.9290    33.8860  30.00  5.9      mw    NaN   \n",
      "49  1956-03-16T19:43:31.000Z   33.6870    35.8120  15.00  5.5      mw    NaN   \n",
      "50  1956-03-16T19:32:43.000Z   33.7760    35.5750  15.00  5.3      mw    NaN   \n",
      "51  1951-04-08T21:38:10.000Z   36.5160    35.8690  15.00  5.8      mw    NaN   \n",
      "52  1918-09-29T12:07:14.000Z   35.0770    35.6080  15.00  6.6      mw    NaN   \n",
      "\n",
      "      gap   dmin   rms  ...                   updated  \\\n",
      "0    43.0  0.328  0.98  ...  2022-01-01T02:47:44.060Z   \n",
      "1    52.0  1.892  1.19  ...  2020-07-09T14:31:06.040Z   \n",
      "2    52.0  1.883  0.88  ...  2020-07-09T14:31:06.040Z   \n",
      "3    46.0  1.852  0.77  ...  2020-06-21T00:54:52.040Z   \n",
      "4   128.0  0.502  0.58  ...  2019-01-21T14:29:37.040Z   \n",
      "5    75.0  0.698  0.74  ...  2015-10-30T02:47:38.040Z   \n",
      "6    28.0  1.889  0.87  ...  2015-10-22T20:05:15.040Z   \n",
      "7     NaN    NaN  1.33  ...  2014-01-03T00:32:51.000Z   \n",
      "8    42.2    NaN  1.35  ...  2015-03-24T02:04:05.508Z   \n",
      "9    40.6    NaN  0.91  ...  2015-03-24T01:29:19.640Z   \n",
      "10   33.5    NaN   NaN  ...  2016-11-10T02:36:14.469Z   \n",
      "11  178.9    NaN  0.73  ...  2014-11-07T01:42:03.079Z   \n",
      "12   48.7    NaN  1.17  ...  2014-11-07T01:39:42.602Z   \n",
      "13   79.0    NaN  1.12  ...  2015-03-24T01:41:46.514Z   \n",
      "14   79.2    NaN   NaN  ...  2014-11-07T01:39:10.098Z   \n",
      "15   43.5    NaN  1.11  ...  2020-09-18T22:05:28.299Z   \n",
      "16   42.2    NaN   NaN  ...  2014-11-07T01:30:34.244Z   \n",
      "17   47.3    NaN   NaN  ...  2014-11-07T01:30:31.443Z   \n",
      "18   70.9    NaN  1.23  ...  2016-11-10T01:19:35.187Z   \n",
      "19   30.1    NaN  0.93  ...  2016-11-10T00:49:07.109Z   \n",
      "20  112.9    NaN  0.95  ...  2014-11-07T01:20:23.904Z   \n",
      "21    NaN    NaN  1.10  ...  2014-11-07T01:08:17.210Z   \n",
      "22    NaN    NaN  1.20  ...  2014-11-07T01:08:16.180Z   \n",
      "23    NaN    NaN  1.11  ...  2014-11-07T01:08:15.667Z   \n",
      "24    NaN    NaN  1.17  ...  2020-07-08T00:48:12.883Z   \n",
      "25    NaN    NaN  0.91  ...  2014-11-07T01:02:23.014Z   \n",
      "26    NaN    NaN  1.16  ...  2020-07-08T00:31:22.643Z   \n",
      "27    NaN    NaN  1.09  ...  2014-11-07T01:01:59.395Z   \n",
      "28    NaN    NaN  1.16  ...  2014-11-07T01:01:59.378Z   \n",
      "29    NaN    NaN  1.07  ...  2020-07-08T00:29:34.444Z   \n",
      "30    NaN    NaN  1.10  ...  2014-11-07T01:00:34.517Z   \n",
      "31    NaN    NaN  1.10  ...  2016-11-09T22:08:14.319Z   \n",
      "32    NaN    NaN  1.10  ...  2014-11-07T00:42:37.502Z   \n",
      "33    NaN    NaN  1.30  ...  2014-11-07T00:41:12.826Z   \n",
      "34    NaN    NaN  1.40  ...  2014-11-07T00:41:12.813Z   \n",
      "35    NaN    NaN  1.30  ...  2014-11-07T00:40:32.728Z   \n",
      "36    NaN    NaN  1.00  ...  2014-11-07T00:39:39.443Z   \n",
      "37    NaN    NaN  1.30  ...  2014-11-07T00:38:40.126Z   \n",
      "38    NaN    NaN  1.20  ...  2014-11-07T00:35:53.242Z   \n",
      "39    NaN    NaN  1.20  ...  2014-11-07T00:34:40.290Z   \n",
      "40    NaN    NaN  1.50  ...  2014-11-07T00:34:01.661Z   \n",
      "41    NaN    NaN  1.00  ...  2014-11-07T00:33:51.267Z   \n",
      "42    NaN    NaN  1.20  ...  2014-11-07T00:33:16.554Z   \n",
      "43    NaN    NaN  1.20  ...  2014-11-07T00:32:21.331Z   \n",
      "44    NaN    NaN  1.00  ...  2014-11-07T00:31:19.337Z   \n",
      "45    NaN    NaN  0.90  ...  2014-11-07T00:28:56.187Z   \n",
      "46    NaN    NaN   NaN  ...  2014-11-06T23:21:46.794Z   \n",
      "47    NaN    NaN   NaN  ...  2014-11-06T23:21:28.650Z   \n",
      "48    NaN    NaN   NaN  ...  2020-07-10T03:58:08.799Z   \n",
      "49    NaN    NaN   NaN  ...  2020-07-10T05:57:16.396Z   \n",
      "50    NaN    NaN   NaN  ...  2015-07-13T17:02:23.000Z   \n",
      "51    NaN    NaN   NaN  ...  2020-07-10T08:04:08.313Z   \n",
      "52    NaN    NaN   NaN  ...  2020-07-10T13:16:37.725Z   \n",
      "\n",
      "                                     place        type horizontalError  \\\n",
      "0              1 km NE of Pérgamos, Cyprus  earthquake             4.7   \n",
      "1              40 km NNW of Latakia, Syria  earthquake             5.6   \n",
      "2              43 km NNW of Latakia, Syria  earthquake             4.6   \n",
      "3             51 km W of Yaylada??, Turkey  earthquake             3.9   \n",
      "4             39 km S of Perivólia, Cyprus  earthquake             6.6   \n",
      "5             57 km S of Perivólia, Cyprus  earthquake             5.5   \n",
      "6               35 km W of Karata?, Turkey  earthquake             5.4   \n",
      "7            26 km SE of K?zkalesi, Turkey  earthquake             NaN   \n",
      "8             29 km SE of Protaras, Cyprus  earthquake             NaN   \n",
      "9             76 km S of Ayia Napa, Cyprus  earthquake             NaN   \n",
      "10           14 km W of ?skenderun, Turkey  earthquake             NaN   \n",
      "11            1 km W of Kakopetriá, Cyprus  earthquake             NaN   \n",
      "12          4 km NW of Parekklisha, Cyprus  earthquake             NaN   \n",
      "13      1 km NNW of Páno Polemídia, Cyprus  earthquake             NaN   \n",
      "14             9 km SW of Büyükçat, Turkey  earthquake             NaN   \n",
      "15              11 km ENE of Tyre, Lebanon  earthquake             NaN   \n",
      "16            5 km SW of Ayia Napa, Cyprus  earthquake             NaN   \n",
      "17             36 km NNW of Latakia, Syria  earthquake             NaN   \n",
      "18              45 km SW of Latakia, Syria  earthquake             NaN   \n",
      "19           43 km SSE of Limassol, Cyprus  earthquake             NaN   \n",
      "20              0 km SE of Ýpsonas, Cyprus  earthquake             NaN   \n",
      "21              7 km ENE of Páchna, Cyprus  earthquake             NaN   \n",
      "22                2 km E of Sotíra, Cyprus  earthquake             NaN   \n",
      "23       4 km NW of Páno Polemídia, Cyprus  earthquake             NaN   \n",
      "24     10 km NNW of Páno Polemídia, Cyprus  earthquake             NaN   \n",
      "25             12 km SW of Baabda, Lebanon  earthquake             NaN   \n",
      "26  3 km WNW of Nabatîyé et Tahta, Lebanon  earthquake             NaN   \n",
      "27             9 km NW of Toygarl?, Turkey  earthquake             NaN   \n",
      "28           13 km WNW of Toygarl?, Turkey  earthquake             NaN   \n",
      "29           11 km WNW of Toygarl?, Turkey  earthquake             NaN   \n",
      "30             34 km NNW of Latakia, Syria  earthquake             NaN   \n",
      "31            47 km SE of Protaras, Cyprus  earthquake             NaN   \n",
      "32           21 km SW of Yaylada??, Turkey  earthquake             NaN   \n",
      "33              2 km NNE of Sotíra, Cyprus  earthquake             NaN   \n",
      "34              13 km S of Kolossi, Cyprus  earthquake             NaN   \n",
      "35        65 km ENE of Rizokárpaso, Cyprus  earthquake             NaN   \n",
      "36            33 km S of Xylofágou, Cyprus  earthquake             NaN   \n",
      "37             2 km W of Perivólia, Cyprus  earthquake             NaN   \n",
      "38             47 km WSW of Latakia, Syria  earthquake             NaN   \n",
      "39           5 km SSE of Perivólia, Cyprus  earthquake             NaN   \n",
      "40             6 km N of Acherítou, Cyprus  earthquake             NaN   \n",
      "41              15 km SE of Pyrgos, Cyprus  earthquake             NaN   \n",
      "42              8 km WNW of Zahlé, Lebanon  earthquake             NaN   \n",
      "43             9 km S of Ayia Napa, Cyprus  earthquake             NaN   \n",
      "44           7 km WNW of Acherítou, Cyprus  earthquake             NaN   \n",
      "45              7 km ENE of Kastal, Turkey  earthquake             NaN   \n",
      "46          24 km ESE of Perivólia, Cyprus  earthquake             NaN   \n",
      "47          24 km SSE of Perivólia, Cyprus  earthquake             NaN   \n",
      "48           6 km SSE of Xylofágou, Cyprus  earthquake             NaN   \n",
      "49            11 km WSW of Aanjar, Lebanon  earthquake             NaN   \n",
      "50             7 km SSE of Baabda, Lebanon  earthquake             NaN   \n",
      "51             27 km W of Ç?rt?man, Turkey  earthquake             NaN   \n",
      "52               32 km NW of ?ar??s, Syria  earthquake             NaN   \n",
      "\n",
      "   depthError  magError  magNst     status  locationSource magSource  \n",
      "0         3.4     0.049   130.0   reviewed              us        us  \n",
      "1         1.9     0.081    44.0   reviewed              us        us  \n",
      "2         1.7     0.045   149.0   reviewed              us        us  \n",
      "3         3.3     0.069    20.0   reviewed              us        us  \n",
      "4         1.9     0.057    96.0   reviewed              us        us  \n",
      "5         6.6     0.045   152.0   reviewed              us        us  \n",
      "6         4.5     0.068    21.0   reviewed              us        us  \n",
      "7         2.1     0.086     NaN   reviewed             isk        us  \n",
      "8         4.6       NaN    36.0   reviewed              us        us  \n",
      "9         4.1       NaN   201.0   reviewed              us        us  \n",
      "10        NaN       NaN     NaN   reviewed             isk      gcmt  \n",
      "11        NaN       NaN     NaN   reviewed              us       the  \n",
      "12       15.5       NaN    25.0   reviewed              us        us  \n",
      "13        NaN       NaN    25.0   reviewed              us        us  \n",
      "14        NaN       NaN    63.0   reviewed             isk        us  \n",
      "15        NaN       NaN     NaN   reviewed              us      gcmt  \n",
      "16        NaN       NaN    94.0   reviewed             nic        us  \n",
      "17        NaN       NaN    27.0   reviewed             isk        us  \n",
      "18        NaN       NaN     NaN   reviewed              us       hrv  \n",
      "19        NaN       NaN     NaN   reviewed              us       hrv  \n",
      "20        3.3       NaN    10.0   reviewed              us        us  \n",
      "21        NaN       NaN    94.0   reviewed              us        us  \n",
      "22        NaN       NaN    55.0   reviewed              us        us  \n",
      "23        NaN       NaN    44.0   reviewed              us        us  \n",
      "24        NaN       NaN     NaN   reviewed              us       hrv  \n",
      "25        NaN       NaN    32.0   reviewed              us        us  \n",
      "26        NaN       NaN    54.0   reviewed              us        us  \n",
      "27        NaN       NaN    53.0   reviewed              us        us  \n",
      "28        NaN       NaN    56.0   reviewed              us        us  \n",
      "29        NaN       NaN     NaN   reviewed              us       hrv  \n",
      "30        NaN       NaN    47.0   reviewed              us        us  \n",
      "31        NaN       NaN     NaN   reviewed              us       hrv  \n",
      "32        5.8       NaN    25.0   reviewed              us        us  \n",
      "33        6.3       NaN    20.0   reviewed              us        us  \n",
      "34        NaN       NaN     2.0   reviewed              us        us  \n",
      "35        NaN       NaN    24.0   reviewed              us        us  \n",
      "36        4.9       NaN    47.0   reviewed              us        us  \n",
      "37        6.2       NaN    31.0   reviewed              us        us  \n",
      "38        NaN       NaN    28.0   reviewed              us        us  \n",
      "39        2.9       NaN    43.0   reviewed              us        us  \n",
      "40        NaN       NaN     5.0   reviewed              us        us  \n",
      "41        NaN       NaN    18.0   reviewed              us        us  \n",
      "42        NaN       NaN    20.0   reviewed              us        us  \n",
      "43        NaN       NaN    10.0   reviewed              us        us  \n",
      "44        6.1       NaN    38.0   reviewed              us        us  \n",
      "45        NaN       NaN    17.0   reviewed              us        us  \n",
      "46        NaN       NaN     NaN   reviewed              us        us  \n",
      "47        NaN       NaN     NaN   reviewed              us        us  \n",
      "48        NaN       NaN     NaN  automatic          iscgem    iscgem  \n",
      "49        NaN       NaN     NaN  automatic          iscgem    iscgem  \n",
      "50        NaN       NaN     NaN  automatic          iscgem    iscgem  \n",
      "51        NaN       NaN     NaN  automatic          iscgem    iscgem  \n",
      "52        NaN       NaN     NaN  automatic          iscgem    iscgem  \n",
      "\n",
      "[53 rows x 22 columns]\n"
     ]
    }
   ],
   "source": [
    "# NOTE: Fill me!\n",
    "\n",
    "latitude = 35.025\n",
    "longitude = 25.763\n",
    "radius = 200 #km\n",
    "minimum_magnitude = 4.5\n",
    "\n",
    "print((data))"
   ]
  },
  {
   "cell_type": "code",
   "execution_count": 245,
   "metadata": {},
   "outputs": [],
   "source": [
    "# NOTE: This request may take significant time (>10s)\n",
    "earthquake_data = get_earthquake_data(\n",
    "    latitude=latitude,\n",
    "    longitude=longitude,\n",
    "    radius=radius,\n",
    "    minimum_magnitude=minimum_magnitude,\n",
    "    end_date=datetime(year=2021, month=10, day=21)\n",
    ")"
   ]
  },
  {
   "cell_type": "code",
   "execution_count": 246,
   "metadata": {},
   "outputs": [],
   "source": [
    "assert isinstance(earthquake_data, pd.DataFrame)\n",
    "assert len(earthquake_data) == 656"
   ]
  },
  {
   "cell_type": "markdown",
   "metadata": {},
   "source": [
    "## Warning\n",
    "\n",
    "The next test may fail because USGS regularly updates their earthquake database.\n",
    "\n",
    "The dataframe obtained should over be similar to that presented bellow.\n",
    "\n",
    "Please contact us if there is an error."
   ]
  },
  {
   "cell_type": "code",
   "execution_count": 247,
   "metadata": {},
   "outputs": [],
   "source": [
    "expected_earthquake_data = pd.DataFrame([\n",
    "        [\"2021-10-12T09:24:05.099Z\", 35.1691, 26.2152, 20.0, 6.4, \"mww\", np.nan, 19.0, 0.860, 0.46,\"us\", \"us6000ftxu\", \"2021-12-18T19:58:57.040Z\", \"4 km SW of Palekastro, Greece\", \"earthquake\", 6.1, 1.8, 0.048, 42.0, \"reviewed\", \"us\", \"us\"],\n",
    "        [\"2021-10-03T14:31:27.622Z\", 35.1442, 25.2375, 10.0, 4.6, \"mb\", np.nan, 119.0, 0.318, 0.64, \"us\", \"us6000fsp1\", \"2021-12-10T21:14:19.040Z\", \"2 km W of Arkalochóri, Greece\", \"earthquake\", 5.0, 1.9, 0.165, 13.0, \"reviewed\", \"us\", \"us\"],\n",
    "        [\"2021-09-29T11:54:48.885Z\", 35.0268, 25.1561, 10.0, 4.6, \"mb\", np.nan, 69.0, 0.339, 0.83, \"us\", \"us6000fq3y\", \"2021-12-04T14:27:58.040Z\", \"2 km N of Pýrgos, Greece\", \"earthquake\", 5.1, 1.3, 0.068, 64.0, \"reviewed\", \"us\", \"us\"],\n",
    "        [\"2021-09-28T15:13:16.867Z\", 35.2054, 25.2791, 10.0, 4.7, \"mb\", np.nan, 58.0, 0.329, 0.70, \"us\", \"us7000ff84\", \"2021-12-04T14:30:09.040Z\", \"1 km N of Thrapsanón, Greece\", \"earthquake\", 6.9, 1.8, 0.067, 73.0, \"reviewed\", \"us\", \"us\"],\n",
    "        [\"2021-09-28T04:48:08.650Z\", 35.0817, 25.2018, 10.0, 5.3, \"mww\", np.nan, 43.0, 0.328, 0.94, \"us\", \"us7000ff36\", \"2021-12-04T14:30:04.040Z\", \"9 km SW of Arkalochóri, Greece\", \"earthquake\", 4.5, 1.7, 0.046, 45.0, \"reviewed\", \"us\", \"us\"],\n",
    "    ],\n",
    "    columns=['time', 'latitude', 'longitude', 'depth', 'mag', 'magType', 'nst', 'gap', 'dmin', 'rms', 'net', 'id', 'updated', 'place', 'type', 'horizontalError', 'depthError', 'magError', 'magNst', 'status', 'locationSource', 'magSource']\n",
    ")"
   ]
  },
  {
   "cell_type": "code",
   "execution_count": 248,
   "metadata": {},
   "outputs": [],
   "source": [
    "earthquake_data_sample = earthquake_data[\n",
    "    earthquake_data[\"time\"].isin(expected_earthquake_data[\"time\"])\n",
    "]\n",
    "\n",
    "pd.testing.assert_frame_equal(earthquake_data_sample, expected_earthquake_data)"
   ]
  },
  {
   "cell_type": "markdown",
   "metadata": {},
   "source": [
    "# Distance\n",
    "\n",
    "We wish to compute the the historical payouts (i.e. the payouts that would have occurred for the past 200 years).\n",
    "\n",
    "To compute the historical payouts, we need to know the distance between each earthquake and our client's asset.\n",
    "\n",
    "The distance between two points on a sphere is the [Haversine distance](https://en.wikipedia.org/wiki/Haversine_formula). In the module `eathquakes.tools`:\n",
    "- Implement and test the function `get_haversine_distance`,\n",
    "- Use `earthquakes.tools.EARTH_RADIUS` (6378km) as an approximation of the radius of Earth."
   ]
  },
  {
   "cell_type": "code",
   "execution_count": 249,
   "metadata": {},
   "outputs": [],
   "source": [
    "from earthquakes.tools import get_haversine_distance\n",
    "\n",
    "distances = get_haversine_distance(earthquake_data[LATITUDE_COLUMN], earthquake_data[LONGITUDE_COLUMN], latitude, longitude)\n",
    "\n",
    "earthquake_data[DISTANCE_COLUMN] = distances"
   ]
  },
  {
   "cell_type": "markdown",
   "metadata": {},
   "source": [
    "## Historical payouts and burning costs\n",
    "\n",
    "### Payout\n",
    "\n",
    "The historical payouts are a map `year -> payout in %`.\n",
    "\n",
    "eg: `1950: 50` for a payout of `50%` in 1950.\n",
    "\n",
    "Payouts are NOT given per event, but per year.\n",
    "\n",
    "This map can take the form of a python `dict` or of a pandas `Series`. \n",
    "\n",
    "### Burning cost\n",
    "\n",
    "The `burning cost` is the average of payouts over a time range.\n",
    "\n",
    "In this project, the burning cost should be expressed in `%`. \n",
    "\n",
    "### Payout structure\n",
    "\n",
    "The payout structure is:\n",
    "\n",
    "| Radius | Magnitude | Payout |\n",
    "|--------|-----------|--------|\n",
    "| 10km   | 4.5       | 100 %  |\n",
    "| 50km   | 5.5       |  75 %  |\n",
    "| 200km  | 6.5       |  50 %  |\n",
    "\n",
    "Payouts can occur only once in a given year.\n",
    "\n",
    "In the module `earthquakes.tools`:\n",
    "+ Implement the functions `compute_payouts` and `compute_burning_cost`,\n",
    "+ Tests for these functions are not required.\n",
    "\n",
    "### Example\n",
    "\n",
    "A payout `{1950: 50, 1992: 75}` means that we would have paid our client\n",
    "+ in 1950, for `50%` of the insured amount (called 'limit')\n",
    "+ in 1992, for `75%` of the limit\n",
    "\n",
    "The burning cost over the `1922-2021` period would be `1.25%`.\n",
    "\n",
    "The burning cost over the `1972-2021` period would be `1.5%`."
   ]
  },
  {
   "cell_type": "code",
   "execution_count": 250,
   "metadata": {},
   "outputs": [],
   "source": [
    "from earthquakes.tools import compute_payouts, compute_burning_cost"
   ]
  },
  {
   "cell_type": "code",
   "execution_count": 251,
   "metadata": {},
   "outputs": [],
   "source": [
    "# NOTE: Fill me!\n",
    "\n",
    "payout_structure = [\n",
    "    {\n",
    "        'payout': '100%',\n",
    "        'magnitude': 4.5,\n",
    "        'radius': '10km'\n",
    "    },    \n",
    "    {\n",
    "        'payout': '75%',\n",
    "        'magnitude': 5.5,\n",
    "        'radius': '50km'\n",
    "    },    \n",
    "    {\n",
    "        'payout': '50%',\n",
    "        'magnitude': 6.5,\n",
    "        'radius': '200km'\n",
    "    },\n",
    "]\n",
    "\n"
   ]
  },
  {
   "cell_type": "code",
   "execution_count": 252,
   "metadata": {},
   "outputs": [],
   "source": [
    "payouts = compute_payouts(earthquake_data, payout_structure)"
   ]
  },
  {
   "cell_type": "code",
   "execution_count": 253,
   "metadata": {},
   "outputs": [],
   "source": [
    "# Depending on the return type of compute_payouts, the following line needs to be adjusted.\n",
    "# - pd.Series:\n",
    "payout_values = np.array(payouts.values)\n",
    "# - dict:\n",
    "# payout_values = np.array(list(payouts.values()))\n",
    "assert np.max(payout_values) > 1\n",
    "assert np.max(payout_values) <= 100"
   ]
  },
  {
   "cell_type": "code",
   "execution_count": 254,
   "metadata": {},
   "outputs": [],
   "source": [
    "burning_cost = compute_burning_cost(payouts, start_year=1952, end_year=2021)"
   ]
  },
  {
   "cell_type": "code",
   "execution_count": 256,
   "metadata": {},
   "outputs": [],
   "source": [
    "np.testing.assert_allclose(burning_cost, 10.71, atol=1e-2)"
   ]
  },
  {
   "cell_type": "code",
   "execution_count": 257,
   "metadata": {},
   "outputs": [],
   "source": [
    "import matplotlib.pyplot as plt"
   ]
  },
  {
   "cell_type": "code",
   "execution_count": 258,
   "metadata": {},
   "outputs": [
    {
     "data": {
      "image/png": "[encoded data removed]",
      "text/plain": [
       "<Figure size 432x288 with 1 Axes>"
      ]
     },
     "metadata": {
      "needs_background": "light"
     },
     "output_type": "display_data"
    }
   ],
   "source": [
    "years = range(1921, 2021)\n",
    "plt.plot(\n",
    "    years, \n",
    "    [\n",
    "        compute_burning_cost(payouts, start_year=start_year, end_year=2021) \n",
    "        for start_year in years\n",
    "    ]\n",
    ")\n",
    "plt.gca().invert_xaxis()"
   ]
  },
  {
   "cell_type": "markdown",
   "metadata": {},
   "source": [
    "# Large asset portfolio - async requests\n",
    "\n",
    "Our client also whishes to cover a large amount of properties all over Europe.\n",
    "\n",
    "In order to speed-up the requests to the USGS API, in the module `earthquakes.usgs_api`:\n",
    "- Implement the `async` function `get_earthquake_data_for_multiple_locations`,\n",
    "- The implementation should use the `asyncio` and `aiohttp` libraries,\n",
    "- The solution should re-use some of the functions already written,\n",
    "- Tests are not required for any of the functions.\n",
    "\n",
    "Note: it is possible that the notebook autoreload feature doesn't work for `async` functions - a kernel restart may be necessary after each modifications."
   ]
  },
  {
   "cell_type": "code",
   "execution_count": 267,
   "metadata": {},
   "outputs": [],
   "source": [
    "import numpy as np\n",
    "import pandas as pd\n",
    "from datetime import datetime\n",
    "\n",
    "from earthquakes.tools import (\n",
    "    LATITUDE_COLUMN,\n",
    "    LONGITUDE_COLUMN,\n",
    ")"
   ]
  },
  {
   "cell_type": "code",
   "execution_count": 268,
   "metadata": {},
   "outputs": [],
   "source": [
    "number_of_assets = 10\n",
    "# NOTE: limiting to number of assets so that the query doesn't take too long."
   ]
  },
  {
   "cell_type": "code",
   "execution_count": 269,
   "metadata": {},
   "outputs": [],
   "source": [
    "random_state = np.random.RandomState(0)\n",
    "\n",
    "random_values = random_state.random(2*number_of_assets)\n",
    "\n",
    "latitudes = random_values[::2] * 20 + 35.0\n",
    "longitudes = random_values[1::2] * 25 + 3.0"
   ]
  },
  {
   "cell_type": "code",
   "execution_count": 270,
   "metadata": {},
   "outputs": [],
   "source": [
    "from earthquakes.usgs_api import get_earthquake_data_for_multiple_locations"
   ]
  },
  {
   "cell_type": "code",
   "execution_count": 271,
   "metadata": {},
   "outputs": [],
   "source": [
    "# NOTE: Fill me!\n",
    "assets = list(zip(latitudes, longitudes))\n"
   ]
  },
  {
   "cell_type": "code",
   "execution_count": 272,
   "metadata": {},
   "outputs": [],
   "source": [
    "# NOTE: This request may take significant time (>10s)\n",
    "earthquake_data = await get_earthquake_data_for_multiple_locations(  # type: ignore\n",
    "    assets, \n",
    "    radius=200, \n",
    "    minimum_magnitude=4.5, \n",
    "    end_date=datetime(year=2021, month=10, day=21)\n",
    ")"
   ]
  },
  {
   "cell_type": "code",
   "execution_count": 273,
   "metadata": {},
   "outputs": [
    {
     "ename": "AssertionError",
     "evalue": "",
     "output_type": "error",
     "traceback": [
      "\u001b[1;31m---------------------------------------------------------------------------\u001b[0m",
      "\u001b[1;31mAssertionError\u001b[0m                            Traceback (most recent call last)",
      "\u001b[1;32m~\\AppData\\Local\\Temp/ipykernel_10148/3689720925.py\u001b[0m in \u001b[0;36m<module>\u001b[1;34m\u001b[0m\n\u001b[0;32m      1\u001b[0m \u001b[1;32massert\u001b[0m \u001b[0misinstance\u001b[0m\u001b[1;33m(\u001b[0m\u001b[0mearthquake_data\u001b[0m\u001b[1;33m,\u001b[0m \u001b[0mpd\u001b[0m\u001b[1;33m.\u001b[0m\u001b[0mDataFrame\u001b[0m\u001b[1;33m)\u001b[0m\u001b[1;33m\u001b[0m\u001b[1;33m\u001b[0m\u001b[0m\n\u001b[1;32m----> 2\u001b[1;33m \u001b[1;32massert\u001b[0m \u001b[0mlen\u001b[0m\u001b[1;33m(\u001b[0m\u001b[0mearthquake_data\u001b[0m\u001b[1;33m)\u001b[0m \u001b[1;33m==\u001b[0m \u001b[1;36m1036\u001b[0m\u001b[1;33m\u001b[0m\u001b[1;33m\u001b[0m\u001b[0m\n\u001b[0m",
      "\u001b[1;31mAssertionError\u001b[0m: "
     ]
    }
   ],
   "source": [
    "assert isinstance(earthquake_data, pd.DataFrame)\n",
    "#assert len(earthquake_data) == 1036\n",
    "print(len(earthquake_data))"
   ]
  },
  {
   "cell_type": "code",
   "execution_count": null,
   "metadata": {},
   "outputs": [],
   "source": []
  }
 ],
 "metadata": {
  "interpreter": {
   "hash": "60230ecbd9b9a94ff1397bcfe0cbc26fc23c06e2385a718caf30b052d5019f5e"
  },
  "kernelspec": {
   "display_name": "Python 3 (ipykernel)",
   "language": "python",
   "name": "python3"
  },
  "language_info": {
   "codemirror_mode": {
    "name": "ipython",
    "version": 3
   },
   "file_extension": ".py",
   "mimetype": "text/x-python",
   "name": "python",
   "nbconvert_exporter": "python",
   "pygments_lexer": "ipython3",
   "version": "3.9.7"
  }
 },
 "nbformat": 4,
 "nbformat_minor": 2
}
